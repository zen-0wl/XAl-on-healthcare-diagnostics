{
 "cells": [
  {
   "cell_type": "code",
   "execution_count": null,
   "metadata": {},
   "outputs": [],
   "source": [
    "import pandas as pd\n",
    "import matplotlib as plt\n",
    "import seaborn as sns\n",
    "from sklearn.model_selection import train_test_split, StratifiedKFold, cross_val_score\n",
    "from sklearn.metrics import classification_report, confusion_matrix\n",
    "from sklearn.tree import DecisionTreeClassifier\n",
    "from sklearn.linear_model import LogisticRegression\n",
    "from sklearn.naive_bayes import GaussianNB\n",
    "from sklearn.neighbors import KNeighborsClassifier\n",
    "from sklearn.preprocessing import LabelEncoder\n",
    "from imblearn.over_sampling import SMOTE\n",
    "import shap"
   ]
  },
  {
   "cell_type": "code",
   "execution_count": null,
   "metadata": {},
   "outputs": [],
   "source": [
    "data = pd.read_csv('healthcare-dataset-stroke-data.csv')\n",
    "data.head()"
   ]
  },
  {
   "cell_type": "markdown",
   "metadata": {},
   "source": [
    "<font color=\"bluegrey\" size=+1.0><b>Data Preprocessing</b></font>"
   ]
  },
  {
   "cell_type": "code",
   "execution_count": null,
   "metadata": {},
   "outputs": [],
   "source": [
    "data.drop(columns=[\"id\"], inplace=True)\n",
    "\n",
    "# Encode categorical features\n",
    "categorical_columns = [\"gender\", \"ever_married\", \"work_type\", \"Residence_type\", \"smoking_status\"]\n",
    "for col in categorical_columns:\n",
    "    data[col] = LabelEncoder().fit_transform(data[col])\n",
    "\n",
    "# Handle missing values\n",
    "data[\"bmi\"].fillna(data[\"bmi\"].mean(), inplace=True)\n",
    "\n",
    "# Split data into features and target\n",
    "X = data.drop(columns=[\"stroke\"])\n",
    "y = data[\"stroke\"]\n",
    "\n",
    "# Balance the dataset using SMOTE\n",
    "smote = SMOTE(random_state=42)\n",
    "X_resampled, y_resampled = smote.fit_resample(X, y)\n",
    "\n",
    "# Train-test split\n",
    "X_train, X_test, y_train, y_test = train_test_split(X_resampled, y_resampled, test_size=0.2, random_state=42)"
   ]
  },
  {
   "cell_type": "markdown",
   "metadata": {},
   "source": [
    "<font color=\"bluegrey\" size=+1.0><b>Decision Tree</b></font>"
   ]
  },
  {
   "cell_type": "code",
   "execution_count": null,
   "metadata": {},
   "outputs": [],
   "source": [
    "dt_model = DecisionTreeClassifier(random_state=42)\n",
    "dt_model.fit(X_train, y_train)\n",
    "\n",
    "# Cross-validation\n",
    "skf = StratifiedKFold(n_splits=5, shuffle=True, random_state=42)\n",
    "cv_scores = cross_val_score(dt_model, X_resampled, y_resampled, scoring='accuracy', cv=skf)\n",
    "print(\"Decision Tree Cross-Validation Scores:\", cv_scores)\n",
    "print(\"Mean CV Accuracy:\", cv_scores.mean())\n",
    "\n",
    "# Evaluate the model\n",
    "y_pred = dt_model.predict(X_test)\n",
    "print(\"Decision Tree Classification Report:\")\n",
    "print(classification_report(y_test, y_pred, target_names=[\"No Stroke\", \"Stroke\"]))\n",
    "\n",
    "# Confusion Matrix\n",
    "conf_matrix = confusion_matrix(y_test, y_pred)\n",
    "plt.figure(figsize=(6, 4))\n",
    "sns.heatmap(conf_matrix, annot=True, fmt=\"d\", cmap=\"Blues\", xticklabels=[\"No Stroke\", \"Stroke\"], yticklabels=[\"No Stroke\", \"Stroke\"])\n",
    "plt.title(\"Confusion Matrix\")\n",
    "plt.ylabel(\"Actual\")\n",
    "plt.xlabel(\"Predicted\")\n",
    "plt.show()\n",
    "\n",
    "# Feature Importance\n",
    "feature_importances = dt_model.feature_importances_\n",
    "importance_df = pd.DataFrame({\"Feature\": X.columns, \"Importance\": feature_importances}).sort_values(by=\"Importance\", ascending=False)\n",
    "print(\"Feature Importances:\\n\", importance_df)\n",
    "\n",
    "# SHAP Explanation\n",
    "explainer = shap.TreeExplainer(dt_model)\n",
    "shap_values = explainer.shap_values(X_test)\n",
    "\n",
    "# Global SHAP Summary Plot\n",
    "shap.summary_plot(shap_values[1], X_test, feature_names=X.columns)\n",
    "\n",
    "# SHAP Force Plot for a Specific Instance\n",
    "instance_idx = 0  # Adjust to view a specific test sample\n",
    "shap.force_plot(explainer.expected_value[1], shap_values[1][instance_idx], X_test.iloc[instance_idx], feature_names=X.columns)"
   ]
  },
  {
   "cell_type": "markdown",
   "metadata": {},
   "source": [
    "<font color=\"bluegrey\" size=+1.0><b>Logistic Regression</b></font>"
   ]
  },
  {
   "cell_type": "code",
   "execution_count": null,
   "metadata": {},
   "outputs": [],
   "source": [
    "lr_model = LogisticRegression(max_iter=500, random_state=42)\n",
    "\n",
    "# Cross-validation\n",
    "cv_scores = cross_val_score(lr_model, X_resampled, y_resampled, scoring='accuracy', cv=skf)\n",
    "print(\"Logistic Regression Cross-Validation Scores:\", cv_scores)\n",
    "print(\"Mean CV Accuracy:\", cv_scores.mean())\n",
    "\n",
    "# Train the model\n",
    "lr_model.fit(X_resampled, y_resampled)\n",
    "\n",
    "# Evaluate the model\n",
    "y_pred = lr_model.predict(X)\n",
    "print(\"Logistic Regression Classification Report:\")\n",
    "print(classification_report(y, y_pred))\n",
    "\n",
    "# XAI with SHAP\n",
    "explainer = shap.Explainer(lr_model, X_resampled)\n",
    "shap_values = explainer(X_resampled)\n",
    "\n",
    "# Global Feature Importance\n",
    "shap.summary_plot(shap_values, X_resampled, plot_type=\"bar\")\n",
    "\n",
    "# Local Explanation for a specific instance\n",
    "shap.force_plot(explainer.expected_value[1], shap_values[0], feature_names=X.columns)"
   ]
  },
  {
   "cell_type": "markdown",
   "metadata": {},
   "source": [
    "<font color=\"bluegrey\" size=+1.0><b>Naive-Bayes</b></font>"
   ]
  },
  {
   "cell_type": "code",
   "execution_count": null,
   "metadata": {},
   "outputs": [],
   "source": [
    "nb_model = GaussianNB()\n",
    "\n",
    "# Cross-validation\n",
    "cv_scores = cross_val_score(nb_model, X_resampled, y_resampled, scoring='accuracy', cv=skf)\n",
    "print(\"Naive Bayes Cross-Validation Scores:\", cv_scores)\n",
    "print(\"Mean CV Accuracy:\", cv_scores.mean())\n",
    "\n",
    "# Train the model\n",
    "nb_model.fit(X_resampled, y_resampled)\n",
    "\n",
    "# Evaluate the model\n",
    "y_pred = nb_model.predict(X)\n",
    "print(\"Naive Bayes Classification Report:\")\n",
    "print(classification_report(y, y_pred))\n",
    "\n",
    "# XAI with SHAP\n",
    "explainer = shap.Explainer(nb_model, X_resampled)\n",
    "shap_values = explainer(X_resampled)\n",
    "\n",
    "# Global Feature Importance\n",
    "shap.summary_plot(shap_values, X_resampled, plot_type=\"bar\")\n",
    "\n",
    "# Local Explanation for a specific instance\n",
    "shap.force_plot(explainer.expected_value[1], shap_values[0], feature_names=X.columns)"
   ]
  },
  {
   "cell_type": "markdown",
   "metadata": {},
   "source": [
    "<font color=\"bluegrey\" size=+1.0><b>K-Neighbours</b></font>"
   ]
  },
  {
   "cell_type": "code",
   "execution_count": null,
   "metadata": {},
   "outputs": [],
   "source": [
    "knn_model = KNeighborsClassifier(n_neighbors=5)\n",
    "\n",
    "# Cross-validation\n",
    "cv_scores = cross_val_score(knn_model, X_resampled, y_resampled, scoring='accuracy', cv=skf)\n",
    "print(\"KNN Cross-Validation Scores:\", cv_scores)\n",
    "print(\"Mean CV Accuracy:\", cv_scores.mean())\n",
    "\n",
    "# Train the model\n",
    "knn_model.fit(X_resampled, y_resampled)\n",
    "\n",
    "# Evaluate the model\n",
    "y_pred = knn_model.predict(X)\n",
    "print(\"KNN Classification Report:\")\n",
    "print(classification_report(y, y_pred))\n",
    "\n",
    "# XAI with SHAP\n",
    "explainer = shap.Explainer(knn_model, X_resampled)\n",
    "shap_values = explainer(X_resampled)\n",
    "\n",
    "# Global Feature Importance\n",
    "shap.summary_plot(shap_values, X_resampled, plot_type=\"bar\")\n",
    "\n",
    "# Local Explanation for a specific instance\n",
    "instance = X.iloc[0]\n",
    "shap.force_plot(explainer.expected_value[1], shap_values[0], feature_names=X.columns)"
   ]
  }
 ],
 "metadata": {
  "kernelspec": {
   "display_name": "xai",
   "language": "python",
   "name": "python3"
  },
  "language_info": {
   "codemirror_mode": {
    "name": "ipython",
    "version": 3
   },
   "file_extension": ".py",
   "mimetype": "text/x-python",
   "name": "python",
   "nbconvert_exporter": "python",
   "pygments_lexer": "ipython3",
   "version": "3.12.4"
  }
 },
 "nbformat": 4,
 "nbformat_minor": 2
}
