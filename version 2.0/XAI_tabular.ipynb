{
 "cells": [
  {
   "cell_type": "code",
   "execution_count": null,
   "metadata": {},
   "outputs": [],
   "source": [
    "import pandas as pd\n",
    "import numpy as np\n",
    "import matplotlib.pyplot as plt\n",
    "import seaborn as sns\n",
    "from sklearn.model_selection import train_test_split, StratifiedKFold, cross_val_score\n",
    "from sklearn.metrics import classification_report, confusion_matrix, roc_auc_score\n",
    "from sklearn.tree import DecisionTreeClassifier\n",
    "from sklearn.linear_model import LogisticRegression\n",
    "from sklearn.naive_bayes import GaussianNB\n",
    "from sklearn.neighbors import KNeighborsClassifier\n",
    "from sklearn.preprocessing import LabelEncoder, StandardScaler\n",
    "from imblearn.over_sampling import SMOTE\n",
    "import shap"
   ]
  },
  {
   "cell_type": "code",
   "execution_count": null,
   "metadata": {},
   "outputs": [],
   "source": [
    "data = pd.read_csv('healthcare-dataset-stroke-data.csv')\n",
    "data.head()"
   ]
  },
  {
   "cell_type": "markdown",
   "metadata": {},
   "source": [
    "<font color=\"bluegrey\" size=+1.0><b>Data Preprocessing</b></font>"
   ]
  },
  {
   "cell_type": "code",
   "execution_count": null,
   "metadata": {},
   "outputs": [],
   "source": [
    "# Check for missing values\n",
    "print(data.isnull().sum())\n",
    "\n",
    "# Handle missing values (fill BMI with median)\n",
    "data['bmi'] = data['bmi'].fillna(data['bmi'].median())\n",
    "\n",
    "# Encode categorical variables\n",
    "categorical_cols = ['gender', 'ever_married', 'work_type', 'Residence_type', 'smoking_status']\n",
    "label_encoders = {col: LabelEncoder() for col in categorical_cols}\n",
    "for col, encoder in label_encoders.items():\n",
    "    data[col] = encoder.fit_transform(data[col])\n",
    "\n",
    "# Drop irrelevant columns (e.g., 'id' if not used)\n",
    "# data = data.drop('id', axis=1)\n",
    "\n",
    "# Normalize numerical features\n",
    "scaler = StandardScaler()\n",
    "numerical_cols = ['age', 'avg_glucose_level', 'bmi']\n",
    "data[numerical_cols] = scaler.fit_transform(data[numerical_cols])\n",
    "\n",
    "# class distribution\n",
    "print(data['stroke'].value_counts())\n",
    "\n",
    "X = data.drop('stroke', axis=1)\n",
    "y = data['stroke']\n",
    "\n",
    "smote = SMOTE(random_state=42)\n",
    "X_resampled, y_resampled = smote.fit_resample(X, y)"
   ]
  },
  {
   "cell_type": "markdown",
   "metadata": {},
   "source": [
    "<font color=\"bluegrey\" size=+1.0><b>Decision Tree</b></font>"
   ]
  },
  {
   "cell_type": "code",
   "execution_count": null,
   "metadata": {},
   "outputs": [],
   "source": [
    "dt_model = DecisionTreeClassifier(random_state=42)\n",
    "dt_model.fit(X_resampled, y_resampled)\n",
    "\n",
    "# Evaluate Decision Tree\n",
    "y_pred = dt_model.predict(X)\n",
    "print(\"Decision Tree Classification Report:\")\n",
    "print(classification_report(y, y_pred))\n",
    "\n",
    "# XAI with SHAP\n",
    "explainer = shap.Explainer(dt_model, X_resampled)\n",
    "shap_values = explainer(X_resampled)\n",
    "\n",
    "# Global Feature Importance\n",
    "shap.summary_plot(shap_values, X_resampled, plot_type=\"bar\")\n",
    "\n",
    "# Local Explanation for a specific instance\n",
    "instance = X.iloc[0]\n",
    "shap.force_plot(explainer.expected_value[1], shap_values[0], feature_names=X.columns)"
   ]
  },
  {
   "cell_type": "markdown",
   "metadata": {},
   "source": [
    "<font color=\"bluegrey\" size=+1.0><b>Logistic Regression</b></font>"
   ]
  },
  {
   "cell_type": "code",
   "execution_count": null,
   "metadata": {},
   "outputs": [],
   "source": [
    "lr_model = LogisticRegression(max_iter=500, random_state=42)\n",
    "lr_model.fit(X_resampled, y_resampled)\n",
    "\n",
    "# Evaluate Logistic Regression\n",
    "y_pred = lr_model.predict(X)\n",
    "print(\"Logistic Regression Classification Report:\")\n",
    "print(classification_report(y, y_pred))\n",
    "\n",
    "# XAI with SHAP\n",
    "explainer = shap.Explainer(lr_model, X_resampled)\n",
    "shap_values = explainer(X_resampled)\n",
    "\n",
    "# Global Feature Importance\n",
    "shap.summary_plot(shap_values, X_resampled, plot_type=\"bar\")\n",
    "\n",
    "# Local Explanation for a specific instance\n",
    "shap.force_plot(explainer.expected_value[1], shap_values[0], feature_names=X.columns)"
   ]
  },
  {
   "cell_type": "markdown",
   "metadata": {},
   "source": [
    "<font color=\"bluegrey\" size=+1.0><b>Naive-Bayes</b></font>"
   ]
  },
  {
   "cell_type": "code",
   "execution_count": null,
   "metadata": {},
   "outputs": [],
   "source": [
    "nb_model = GaussianNB()\n",
    "nb_model.fit(X_resampled, y_resampled)\n",
    "\n",
    "# Evaluate Naive Bayes\n",
    "y_pred = nb_model.predict(X)\n",
    "print(\"Naive Bayes Classification Report:\")\n",
    "print(classification_report(y, y_pred))\n",
    "\n",
    "# XAI with SHAP\n",
    "explainer = shap.Explainer(nb_model, X_resampled)\n",
    "shap_values = explainer(X_resampled)\n",
    "\n",
    "# Global Feature Importance\n",
    "shap.summary_plot(shap_values, X_resampled, plot_type=\"bar\")\n",
    "\n",
    "# Local Explanation for a specific instance\n",
    "shap.force_plot(explainer.expected_value[1], shap_values[0], feature_names=X.columns)"
   ]
  },
  {
   "cell_type": "markdown",
   "metadata": {},
   "source": [
    "<font color=\"bluegrey\" size=+1.0><b>K-Neighbours</b></font>"
   ]
  },
  {
   "cell_type": "code",
   "execution_count": null,
   "metadata": {},
   "outputs": [],
   "source": [
    "knn_model = KNeighborsClassifier(n_neighbors=5)\n",
    "knn_model.fit(X_resampled, y_resampled)\n",
    "\n",
    "# Evaluate KNN\n",
    "y_pred = knn_model.predict(X)\n",
    "print(\"KNN Classification Report:\")\n",
    "print(classification_report(y, y_pred))\n",
    "\n",
    "# XAI with SHAP\n",
    "explainer = shap.Explainer(knn_model, X_resampled)\n",
    "shap_values = explainer(X_resampled)\n",
    "\n",
    "# Global Feature Importance\n",
    "shap.summary_plot(shap_values, X_resampled, plot_type=\"bar\")\n",
    "\n",
    "# Local Explanation for a specific instance\n",
    "instance = X.iloc[0]\n",
    "shap.force_plot(explainer.expected_value[1], shap_values[0], feature_names=X.columns)"
   ]
  }
 ],
 "metadata": {
  "kernelspec": {
   "display_name": "xai",
   "language": "python",
   "name": "python3"
  },
  "language_info": {
   "name": "python",
   "version": "3.12.4"
  }
 },
 "nbformat": 4,
 "nbformat_minor": 2
}
