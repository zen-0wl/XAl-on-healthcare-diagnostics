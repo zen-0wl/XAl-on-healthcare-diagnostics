{
 "cells": [
  {
   "cell_type": "code",
   "execution_count": 1,
   "metadata": {},
   "outputs": [],
   "source": [
    "import pandas as pd\n",
    "import numpy as np\n",
    "from sklearn.model_selection import train_test_split\n",
    "from sklearn.pipeline import Pipeline\n",
    "from imblearn.over_sampling import SMOTE"
   ]
  },
  {
   "cell_type": "code",
   "execution_count": 2,
   "metadata": {},
   "outputs": [
    {
     "name": "stdout",
     "output_type": "stream",
     "text": [
      "<class 'pandas.core.frame.DataFrame'>\n",
      "RangeIndex: 5110 entries, 0 to 5109\n",
      "Data columns (total 12 columns):\n",
      " #   Column             Non-Null Count  Dtype  \n",
      "---  ------             --------------  -----  \n",
      " 0   id                 5110 non-null   int64  \n",
      " 1   gender             5110 non-null   object \n",
      " 2   age                5110 non-null   float64\n",
      " 3   hypertension       5110 non-null   int64  \n",
      " 4   heart_disease      5110 non-null   int64  \n",
      " 5   ever_married       5110 non-null   object \n",
      " 6   work_type          5110 non-null   object \n",
      " 7   Residence_type     5110 non-null   object \n",
      " 8   avg_glucose_level  5110 non-null   float64\n",
      " 9   bmi                4909 non-null   float64\n",
      " 10  smoking_status     5110 non-null   object \n",
      " 11  stroke             5110 non-null   int64  \n",
      "dtypes: float64(3), int64(4), object(5)\n",
      "memory usage: 479.2+ KB\n",
      "None\n",
      "      id  gender   age  hypertension  heart_disease ever_married  \\\n",
      "0   9046    Male  67.0             0              1          Yes   \n",
      "1  51676  Female  61.0             0              0          Yes   \n",
      "2  31112    Male  80.0             0              1          Yes   \n",
      "3  60182  Female  49.0             0              0          Yes   \n",
      "4   1665  Female  79.0             1              0          Yes   \n",
      "\n",
      "       work_type Residence_type  avg_glucose_level   bmi   smoking_status  \\\n",
      "0        Private          Urban             228.69  36.6  formerly smoked   \n",
      "1  Self-employed          Rural             202.21   NaN     never smoked   \n",
      "2        Private          Rural             105.92  32.5     never smoked   \n",
      "3        Private          Urban             171.23  34.4           smokes   \n",
      "4  Self-employed          Rural             174.12  24.0     never smoked   \n",
      "\n",
      "   stroke  \n",
      "0       1  \n",
      "1       1  \n",
      "2       1  \n",
      "3       1  \n",
      "4       1  \n"
     ]
    }
   ],
   "source": [
    "file_path = 'C:/Users/zen/Documents/-- four/s2/FYP I/XAl-on-healthcare-diagnostics/version_3.0/healthcare-dataset-stroke-data.csv'\n",
    "data = pd.read_csv(file_path)\n",
    "\n",
    "print(data.info())\n",
    "print(data.head())"
   ]
  },
  {
   "cell_type": "markdown",
   "metadata": {},
   "source": [
    "<font color=\"bluegrey\" size=+1.0><b>Preprocess</b></font>"
   ]
  },
  {
   "cell_type": "code",
   "execution_count": 3,
   "metadata": {},
   "outputs": [],
   "source": [
    "# === CLEANING ===\n",
    "\n",
    "# Drop unnecessary ID column\n",
    "data.drop(columns=['id'], inplace=True)\n",
    "\n",
    "# Remove rare gender outlier\n",
    "data = data[data['gender'] != 'Other']\n",
    "\n",
    "# Fill missing BMI with mean (you could also bin it, but keeping numeric for now)\n",
    "data['bmi'] = data['bmi'].fillna(data['bmi'].mean())\n",
    "\n",
    "# Handle smoking status for children\n",
    "data.loc[(data['smoking_status'] == 'Unknown') & (data['age'] <= 12), 'smoking_status'] = 'never smoked'\n",
    "\n",
    "# === SIMPLIFYING CATEGORICALS ===\n",
    "\n",
    "# Binary mappings (keep these — they're interpretable)\n",
    "data['gender'] = data['gender'].map({'Male': 1, 'Female': 0})\n",
    "data['ever_married'] = data['ever_married'].map({'Yes': 1, 'No': 0})\n",
    "data['Residence_type'] = data['Residence_type'].map({'Urban': 1, 'Rural': 0})\n",
    "\n",
    "# Normalize and simplify category values (still readable)\n",
    "data['work_type'] = data['work_type'].replace({\n",
    "    'Private': 'private',\n",
    "    'Self-employed': 'self_employed',\n",
    "    'Govt_job': 'govt_job',\n",
    "    'Never_worked': 'never_worked',\n",
    "    'children': 'children'\n",
    "})\n",
    "\n",
    "data['smoking_status'] = data['smoking_status'].replace({\n",
    "    'formerly smoked': 'formerly_smoked',\n",
    "    'never smoked': 'never_smoked',\n",
    "    'Unknown': 'unknown'\n",
    "})\n",
    "\n",
    "# Optional: Convert work_type & smoking_status to category dtype (helpful for EBM)\n",
    "data['work_type'] = data['work_type'].astype('category')\n",
    "data['smoking_status'] = data['smoking_status'].astype('category')\n",
    "\n",
    "# === BIN BMI IF YOU WANT HUMAN-FRIENDLY OUTPUT (OPTIONAL) ===\n",
    "def categorize_bmi(bmi):\n",
    "    if bmi <= 18.5:\n",
    "        return 'Underweight'\n",
    "    elif 18.5 < bmi <= 25:\n",
    "        return 'Normal'\n",
    "    elif 25 < bmi <= 30:\n",
    "        return 'Overweight'\n",
    "    else:\n",
    "        return 'Obese'\n",
    "\n",
    "data['bmi_category'] = data['bmi'].apply(categorize_bmi)\n",
    "data.drop(columns=['bmi'], inplace=True)\n",
    "data['bmi_category'] = data['bmi_category'].astype('category')\n",
    "\n",
    "# === Define features and target ===\n",
    "target_column = 'stroke'\n",
    "X = data.drop(columns=[target_column])\n",
    "y = data[target_column]\n",
    "\n",
    "# === Train-test split (no scaling, no balancing here) ===\n",
    "X_train, X_test, y_train, y_test = train_test_split(X, y, test_size=0.2, stratify=y, random_state=42)"
   ]
  },
  {
   "cell_type": "code",
   "execution_count": 4,
   "metadata": {},
   "outputs": [],
   "source": [
    "# training set\n",
    "train_data = X_train.copy()  # Copy features from the train set\n",
    "train_data['stroke'] = y_train  # Add the target variable to the training set\n",
    "train_data.to_csv('train_data.csv', index=False)\n",
    "\n",
    "# test set\n",
    "test_data = X_test.copy()  # Copy features from the test set\n",
    "test_data['stroke'] = y_test  # Add the target variable to the test set\n",
    "test_data.to_csv('test_data.csv', index=False)"
   ]
  }
 ],
 "metadata": {
  "kernelspec": {
   "display_name": "xai",
   "language": "python",
   "name": "python3"
  },
  "language_info": {
   "codemirror_mode": {
    "name": "ipython",
    "version": 3
   },
   "file_extension": ".py",
   "mimetype": "text/x-python",
   "name": "python",
   "nbconvert_exporter": "python",
   "pygments_lexer": "ipython3",
   "version": "3.12.4"
  }
 },
 "nbformat": 4,
 "nbformat_minor": 2
}
