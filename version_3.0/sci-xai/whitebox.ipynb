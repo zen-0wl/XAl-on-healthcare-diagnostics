{
 "cells": [
  {
   "cell_type": "code",
   "execution_count": 1,
   "id": "a7b875cb",
   "metadata": {},
   "outputs": [],
   "source": [
    "from interpret.glassbox import ExplainableBoostingClassifier\n",
    "from interpret import show\n",
    "import pandas as pd"
   ]
  },
  {
   "cell_type": "code",
   "execution_count": 2,
   "id": "c22b0c04",
   "metadata": {},
   "outputs": [],
   "source": [
    "train_data = pd.read_csv('train_data.csv')\n",
    "X_train = train_data.drop(columns=['stroke'])\n",
    "y_train = train_data['stroke']\n",
    "\n",
    "test_data = pd.read_csv('test_data.csv')\n",
    "X_test = test_data.drop(columns=['stroke'])\n",
    "y_test = test_data['stroke']"
   ]
  },
  {
   "cell_type": "markdown",
   "id": "a5b8ed15",
   "metadata": {},
   "source": [
    "<font color=\"bluegrey\" size=+1.0><b>Explainable Boosting Machines (EBM)</b></font>"
   ]
  },
  {
   "cell_type": "code",
   "execution_count": 3,
   "id": "645b3d07",
   "metadata": {},
   "outputs": [
    {
     "data": {
      "text/html": [
       "<!-- http://127.0.0.1:7001/2682328147888/ -->\n",
       "<iframe src=\"http://127.0.0.1:7001/2682328147888/\" width=100% height=800 frameBorder=\"0\"></iframe>"
      ]
     },
     "metadata": {},
     "output_type": "display_data"
    },
    {
     "data": {
      "text/html": [
       "<!-- http://127.0.0.1:7001/2682361370000/ -->\n",
       "<iframe src=\"http://127.0.0.1:7001/2682361370000/\" width=100% height=800 frameBorder=\"0\"></iframe>"
      ]
     },
     "metadata": {},
     "output_type": "display_data"
    }
   ],
   "source": [
    "ebm = ExplainableBoostingClassifier(random_state=42)\n",
    "ebm.fit(X_train, y_train)\n",
    "\n",
    "y_pred_ebm = ebm.predict(X_test)\n",
    "y_proba_ebm = ebm.predict_proba(X_test)[:, 1]\n",
    "\n",
    "# Global explanation - feature importance\n",
    "ebm_global = ebm.explain_global(name='EBM Global Explanation')\n",
    "show(ebm_global)\n",
    "\n",
    "# Local explanation - explanation for one prediction\n",
    "ebm_local = ebm.explain_local(X_test, y_test)\n",
    "show(ebm_local)"
   ]
  }
 ],
 "metadata": {
  "kernelspec": {
   "display_name": "xai-9s0IpLRD-py3.13",
   "language": "python",
   "name": "python3"
  },
  "language_info": {
   "codemirror_mode": {
    "name": "ipython",
    "version": 3
   },
   "file_extension": ".py",
   "mimetype": "text/x-python",
   "name": "python",
   "nbconvert_exporter": "python",
   "pygments_lexer": "ipython3",
   "version": "3.13.3"
  }
 },
 "nbformat": 4,
 "nbformat_minor": 5
}
