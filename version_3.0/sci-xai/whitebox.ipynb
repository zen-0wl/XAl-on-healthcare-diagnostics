{
 "cells": [
  {
   "cell_type": "code",
   "execution_count": 1,
   "id": "a7b875cb",
   "metadata": {},
   "outputs": [],
   "source": [
    "from interpret.glassbox import ExplainableBoostingClassifier\n",
    "from interpret import show\n",
    "import pandas as pd"
   ]
  },
  {
   "cell_type": "code",
   "execution_count": null,
   "id": "c22b0c04",
   "metadata": {},
   "outputs": [],
   "source": [
    "train_data = pd.read_csv('train_data.csv')\n",
    "X_train = train_data.drop(columns=['stroke'])\n",
    "y_train = train_data['stroke']\n",
    "\n",
    "test_data = pd.read_csv('test_data.csv')\n",
    "X_test = test_data.drop(columns=['stroke'])\n",
    "y_test = test_data['stroke']"
   ]
  },
  {
   "cell_type": "markdown",
   "id": "a5b8ed15",
   "metadata": {},
   "source": [
    "<font color=\"bluegrey\" size=+1.0><b>Explainable Boosting Machines (EBM)</b></font>"
   ]
  },
  {
   "cell_type": "code",
   "execution_count": null,
   "id": "645b3d07",
   "metadata": {},
   "outputs": [
    {
     "ename": "",
     "evalue": "",
     "output_type": "error",
     "traceback": [
      "\u001b[1;31mRunning cells with 'xai (Python 3.12.4)' requires the ipykernel package.\n",
      "\u001b[1;31mInstall 'ipykernel' into the Python environment. \n",
      "\u001b[1;31mCommand: '\"c:/Users/zen/Documents/-- four/s2/FYP I/XAl-on-healthcare-diagnostics/xai/Scripts/python.exe\" -m pip install ipykernel -U --force-reinstall'"
     ]
    }
   ],
   "source": [
    "ebm = ExplainableBoostingClassifier(random_state=42)\n",
    "ebm.fit(X_train, y_train)\n",
    "\n",
    "y_pred_ebm = ebm.predict(X_test)\n",
    "y_proba_ebm = ebm.predict_proba(X_test)[:, 1]\n",
    "\n",
    "# Global explanation - feature importance\n",
    "ebm_global = ebm.explain_global(name='EBM Global Explanation')\n",
    "show(ebm_global)\n",
    "\n",
    "# Local explanation - explanation for one prediction\n",
    "ebm_local = ebm.explain_local(X_test, y_test)\n",
    "show(ebm_local)"
   ]
  }
 ],
 "metadata": {
  "kernelspec": {
   "display_name": "xai-l6aICPR9-py3.13",
   "language": "python",
   "name": "python3"
  },
  "language_info": {
   "codemirror_mode": {
    "name": "ipython",
    "version": 3
   },
   "file_extension": ".py",
   "mimetype": "text/x-python",
   "name": "python",
   "nbconvert_exporter": "python",
   "pygments_lexer": "ipython3",
   "version": "3.13.3"
  }
 },
 "nbformat": 4,
 "nbformat_minor": 5
}
